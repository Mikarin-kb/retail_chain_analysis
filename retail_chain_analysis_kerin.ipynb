{
 "cells": [
  {
   "cell_type": "code",
   "execution_count": 1,
   "id": "0e2e4318-c146-4ec1-af5f-ba46fd1809a6",
   "metadata": {},
   "outputs": [
    {
     "name": "stdout",
     "output_type": "stream",
     "text": [
      "Pandas version: 2.2.3\n",
      "NumPy version: 2.1.3\n"
     ]
    }
   ],
   "source": [
    "import pandas as pd\n",
    "import numpy as np\n",
    "import os\n",
    "\n",
    "print(\"Pandas version:\", pd.__version__)\n",
    "print(\"NumPy version:\", np.__version__)"
   ]
  },
  {
   "cell_type": "code",
   "execution_count": 2,
   "id": "d668fd7a-d563-49a8-a630-fad0ef6d54bf",
   "metadata": {},
   "outputs": [],
   "source": [
    "sales_path = \"/workspace/sales.csv\" if os.path.exists(\"/workspace/sales.csv\") else r\"C:\\Users\\kerin\\OneDrive\\MIU\\Python Course\\ventas.csv\"\n",
    "inventories_path = \"/workspace/inventories.csv\" if os.path.exists(\"/workspace/inventories.csv\") else r\"C:\\Users\\kerin\\OneDrive\\MIU\\Python Course\\inventarios.csv\"\n",
    "satisfaction_path = \"/workspace/satisfaction.csv\" if os.path.exists(\"/workspace/satisfaction.csv\") else r\"C:\\Users\\kerin\\OneDrive\\MIU\\Python Course\\satisfaccion.csv\""
   ]
  },
  {
   "cell_type": "code",
   "execution_count": 3,
   "id": "884fc474-9ae7-4cb8-814b-b2bb3066fbaf",
   "metadata": {},
   "outputs": [
    {
     "name": "stdout",
     "output_type": "stream",
     "text": [
      "Sales shape: (10, 5)\n",
      "Inventories shape: (10, 4)\n",
      "Satisfaction shape: (5, 3)\n"
     ]
    },
    {
     "data": {
      "text/html": [
       "<div>\n",
       "<style scoped>\n",
       "    .dataframe tbody tr th:only-of-type {\n",
       "        vertical-align: middle;\n",
       "    }\n",
       "\n",
       "    .dataframe tbody tr th {\n",
       "        vertical-align: top;\n",
       "    }\n",
       "\n",
       "    .dataframe thead th {\n",
       "        text-align: right;\n",
       "    }\n",
       "</style>\n",
       "<table border=\"1\" class=\"dataframe\">\n",
       "  <thead>\n",
       "    <tr style=\"text-align: right;\">\n",
       "      <th></th>\n",
       "      <th>ID_Tienda</th>\n",
       "      <th>Producto</th>\n",
       "      <th>Cantidad_Vendida</th>\n",
       "      <th>Precio_Unitario</th>\n",
       "      <th>Fecha_Venta</th>\n",
       "    </tr>\n",
       "  </thead>\n",
       "  <tbody>\n",
       "    <tr>\n",
       "      <th>0</th>\n",
       "      <td>1</td>\n",
       "      <td>Producto A</td>\n",
       "      <td>20</td>\n",
       "      <td>100</td>\n",
       "      <td>2023-01-05</td>\n",
       "    </tr>\n",
       "    <tr>\n",
       "      <th>1</th>\n",
       "      <td>1</td>\n",
       "      <td>Producto B</td>\n",
       "      <td>15</td>\n",
       "      <td>200</td>\n",
       "      <td>2023-01-06</td>\n",
       "    </tr>\n",
       "    <tr>\n",
       "      <th>2</th>\n",
       "      <td>2</td>\n",
       "      <td>Producto A</td>\n",
       "      <td>30</td>\n",
       "      <td>100</td>\n",
       "      <td>2023-01-07</td>\n",
       "    </tr>\n",
       "    <tr>\n",
       "      <th>3</th>\n",
       "      <td>2</td>\n",
       "      <td>Producto C</td>\n",
       "      <td>25</td>\n",
       "      <td>300</td>\n",
       "      <td>2023-01-08</td>\n",
       "    </tr>\n",
       "    <tr>\n",
       "      <th>4</th>\n",
       "      <td>3</td>\n",
       "      <td>Producto A</td>\n",
       "      <td>10</td>\n",
       "      <td>100</td>\n",
       "      <td>2023-01-09</td>\n",
       "    </tr>\n",
       "  </tbody>\n",
       "</table>\n",
       "</div>"
      ],
      "text/plain": [
       "   ID_Tienda    Producto  Cantidad_Vendida  Precio_Unitario Fecha_Venta\n",
       "0          1  Producto A                20              100  2023-01-05\n",
       "1          1  Producto B                15              200  2023-01-06\n",
       "2          2  Producto A                30              100  2023-01-07\n",
       "3          2  Producto C                25              300  2023-01-08\n",
       "4          3  Producto A                10              100  2023-01-09"
      ]
     },
     "execution_count": 3,
     "metadata": {},
     "output_type": "execute_result"
    }
   ],
   "source": [
    "sales = pd.read_csv(sales_path).dropna()\n",
    "inventories = pd.read_csv(inventories_path).dropna()\n",
    "satisfaction = pd.read_csv(satisfaction_path).dropna()\n",
    "\n",
    "print(\"Sales shape:\", sales.shape)\n",
    "print(\"Inventories shape:\", inventories.shape)\n",
    "print(\"Satisfaction shape:\", satisfaction.shape)\n",
    "\n",
    "sales.head()"
   ]
  },
  {
   "cell_type": "code",
   "execution_count": 4,
   "id": "11740d38-1001-433d-9139-2cb372b5a654",
   "metadata": {},
   "outputs": [
    {
     "name": "stdout",
     "output_type": "stream",
     "text": [
      "Sales columns: ['ID_Tienda', 'Producto', 'Cantidad_Vendida', 'Precio_Unitario', 'Fecha_Venta']\n",
      "Inventories columns: ['ID_Tienda', 'Producto', 'Stock_Disponible', 'Fecha_Actualización']\n",
      "Satisfaction columns: ['ID_Tienda', 'Satisfacción_Promedio', 'Fecha_Evaluación']\n"
     ]
    },
    {
     "data": {
      "text/html": [
       "<div>\n",
       "<style scoped>\n",
       "    .dataframe tbody tr th:only-of-type {\n",
       "        vertical-align: middle;\n",
       "    }\n",
       "\n",
       "    .dataframe tbody tr th {\n",
       "        vertical-align: top;\n",
       "    }\n",
       "\n",
       "    .dataframe thead th {\n",
       "        text-align: right;\n",
       "    }\n",
       "</style>\n",
       "<table border=\"1\" class=\"dataframe\">\n",
       "  <thead>\n",
       "    <tr style=\"text-align: right;\">\n",
       "      <th></th>\n",
       "      <th>ID_Tienda</th>\n",
       "      <th>Producto</th>\n",
       "      <th>Cantidad_Vendida</th>\n",
       "      <th>Precio_Unitario</th>\n",
       "      <th>Fecha_Venta</th>\n",
       "    </tr>\n",
       "  </thead>\n",
       "  <tbody>\n",
       "    <tr>\n",
       "      <th>0</th>\n",
       "      <td>1</td>\n",
       "      <td>Producto A</td>\n",
       "      <td>20</td>\n",
       "      <td>100</td>\n",
       "      <td>2023-01-05</td>\n",
       "    </tr>\n",
       "    <tr>\n",
       "      <th>1</th>\n",
       "      <td>1</td>\n",
       "      <td>Producto B</td>\n",
       "      <td>15</td>\n",
       "      <td>200</td>\n",
       "      <td>2023-01-06</td>\n",
       "    </tr>\n",
       "    <tr>\n",
       "      <th>2</th>\n",
       "      <td>2</td>\n",
       "      <td>Producto A</td>\n",
       "      <td>30</td>\n",
       "      <td>100</td>\n",
       "      <td>2023-01-07</td>\n",
       "    </tr>\n",
       "    <tr>\n",
       "      <th>3</th>\n",
       "      <td>2</td>\n",
       "      <td>Producto C</td>\n",
       "      <td>25</td>\n",
       "      <td>300</td>\n",
       "      <td>2023-01-08</td>\n",
       "    </tr>\n",
       "    <tr>\n",
       "      <th>4</th>\n",
       "      <td>3</td>\n",
       "      <td>Producto A</td>\n",
       "      <td>10</td>\n",
       "      <td>100</td>\n",
       "      <td>2023-01-09</td>\n",
       "    </tr>\n",
       "  </tbody>\n",
       "</table>\n",
       "</div>"
      ],
      "text/plain": [
       "   ID_Tienda    Producto  Cantidad_Vendida  Precio_Unitario Fecha_Venta\n",
       "0          1  Producto A                20              100  2023-01-05\n",
       "1          1  Producto B                15              200  2023-01-06\n",
       "2          2  Producto A                30              100  2023-01-07\n",
       "3          2  Producto C                25              300  2023-01-08\n",
       "4          3  Producto A                10              100  2023-01-09"
      ]
     },
     "execution_count": 4,
     "metadata": {},
     "output_type": "execute_result"
    }
   ],
   "source": [
    "print(\"Sales columns:\", sales.columns.tolist())\n",
    "print(\"Inventories columns:\", inventories.columns.tolist())\n",
    "print(\"Satisfaction columns:\", satisfaction.columns.tolist())\n",
    "\n",
    "sales.head()\n"
   ]
  },
  {
   "cell_type": "code",
   "execution_count": 5,
   "id": "1ca5b154-75f7-4351-97e2-e1af7c4e5eef",
   "metadata": {},
   "outputs": [
    {
     "name": "stdout",
     "output_type": "stream",
     "text": [
      "Columns renamed successfully!\n"
     ]
    }
   ],
   "source": [
    "sales = sales.rename(columns={\n",
    "    \"ID_Tienda\": \"store_id\",\n",
    "    \"Producto\": \"product_id\",\n",
    "    \"Cantidad_Vendida\": \"quantity_sold\",\n",
    "    \"Precio_Unitario\": \"unit_price\",\n",
    "    \"Fecha_Venta\": \"date\"\n",
    "})\n",
    "\n",
    "inventories = inventories.rename(columns={\n",
    "    \"ID_Tienda\": \"store_id\",\n",
    "    \"Producto\": \"product_id\",\n",
    "    \"Stock_Disponible\": \"stock_on_hand\",\n",
    "    \"Fecha_Actualización\": \"date_updated\"\n",
    "})\n",
    "\n",
    "satisfaction = satisfaction.rename(columns={\n",
    "    \"ID_Tienda\": \"store_id\",\n",
    "    \"Satisfacción_Promedio\": \"satisfaction_pct\",\n",
    "    \"Fecha_Evaluación\": \"date_evaluated\"\n",
    "})\n",
    "\n",
    "print(\"Columns renamed successfully!\")\n"
   ]
  },
  {
   "cell_type": "code",
   "execution_count": 6,
   "id": "9f4eaf95-ad23-4497-afb8-a63416559221",
   "metadata": {},
   "outputs": [
    {
     "name": "stdout",
     "output_type": "stream",
     "text": [
      "Critical inventory items (sold < 10% of stock):\n",
      "Empty DataFrame\n",
      "Columns: [store_id, product_id, stock_on_hand, date_updated, quantity_sold, turnover, pct_sold_vs_stock]\n",
      "Index: []\n"
     ]
    }
   ],
   "source": [
    "sold = sales.groupby([\"store_id\", \"product_id\"])[\"quantity_sold\"].sum().reset_index()\n",
    "merged = inventories.merge(sold, on=[\"store_id\", \"product_id\"], how=\"left\").fillna(0)\n",
    "\n",
    "merged[\"turnover\"] = merged[\"quantity_sold\"] / merged[\"stock_on_hand\"]\n",
    "merged[\"pct_sold_vs_stock\"] = (merged[\"quantity_sold\"] / merged[\"stock_on_hand\"]) * 100\n",
    "\n",
    "critical = merged[merged[\"pct_sold_vs_stock\"] < 10]\n",
    "print(\"Critical inventory items (sold < 10% of stock):\")\n",
    "print(critical.head())\n"
   ]
  },
  {
   "cell_type": "code",
   "execution_count": 7,
   "id": "6ebda953-6e2b-44e2-96f7-5772f91504d6",
   "metadata": {},
   "outputs": [
    {
     "name": "stdout",
     "output_type": "stream",
     "text": [
      "   store_id  product_id  quantity_sold\n",
      "0         1  Producto A             20\n",
      "1         1  Producto B             15\n",
      "2         2  Producto A             30\n",
      "3         2  Producto C             25\n",
      "4         3  Producto A             10\n",
      "   store_id  revenue\n",
      "0         1     5000\n",
      "1         2    10500\n",
      "2         3     9000\n",
      "3         4    13000\n",
      "4         5    13000\n",
      "count    10.000000\n",
      "mean     25.000000\n",
      "std       9.128709\n",
      "min      10.000000\n",
      "25%      20.000000\n",
      "50%      25.000000\n",
      "75%      30.000000\n",
      "max      40.000000\n",
      "Name: quantity_sold, dtype: float64\n"
     ]
    }
   ],
   "source": [
    "sales_by_store_product = sales.groupby([\"store_id\", \"product_id\"])[\"quantity_sold\"].sum().reset_index()\n",
    "print(sales_by_store_product.head())\n",
    "\n",
    "sales[\"revenue\"] = sales[\"quantity_sold\"] * sales[\"unit_price\"]\n",
    "revenue_by_store = sales.groupby(\"store_id\")[\"revenue\"].sum().reset_index()\n",
    "print(revenue_by_store)\n",
    "\n",
    "print(sales[\"quantity_sold\"].describe())\n"
   ]
  },
  {
   "cell_type": "code",
   "execution_count": 8,
   "id": "7eb0b6c1-2af4-4d78-8edb-307c76e2e171",
   "metadata": {},
   "outputs": [
    {
     "data": {
      "image/png": "[encoded data removed]",
      "text/plain": [
       "<Figure size 640x480 with 1 Axes>"
      ]
     },
     "metadata": {},
     "output_type": "display_data"
    }
   ],
   "source": [
    "import matplotlib.pyplot as plt\n",
    "\n",
    "revenue_by_store_sorted = revenue_by_store.sort_values(\"revenue\", ascending=False)\n",
    "\n",
    "plt.figure()\n",
    "plt.bar(revenue_by_store_sorted[\"store_id\"].astype(str),\n",
    "        revenue_by_store_sorted[\"revenue\"])\n",
    "\n",
    "plt.title(\"Total Revenue by Store\")\n",
    "plt.xlabel(\"Store\")\n",
    "plt.ylabel(\"Revenue\")\n",
    "plt.xticks(rotation=45)\n",
    "plt.tight_layout()\n",
    "plt.show()\n"
   ]
  },
  {
   "cell_type": "code",
   "execution_count": 9,
   "id": "18538aa7-46c2-42ef-908d-ad9af6664f62",
   "metadata": {},
   "outputs": [
    {
     "name": "stdout",
     "output_type": "stream",
     "text": [
      "Inventory analysis complete!\n",
      "First 5 rows of merged data:\n"
     ]
    },
    {
     "data": {
      "text/html": [
       "<div>\n",
       "<style scoped>\n",
       "    .dataframe tbody tr th:only-of-type {\n",
       "        vertical-align: middle;\n",
       "    }\n",
       "\n",
       "    .dataframe tbody tr th {\n",
       "        vertical-align: top;\n",
       "    }\n",
       "\n",
       "    .dataframe thead th {\n",
       "        text-align: right;\n",
       "    }\n",
       "</style>\n",
       "<table border=\"1\" class=\"dataframe\">\n",
       "  <thead>\n",
       "    <tr style=\"text-align: right;\">\n",
       "      <th></th>\n",
       "      <th>store_id</th>\n",
       "      <th>product_id</th>\n",
       "      <th>stock_on_hand</th>\n",
       "      <th>date_updated</th>\n",
       "      <th>quantity_sold</th>\n",
       "      <th>turnover</th>\n",
       "      <th>pct_sold_vs_stock</th>\n",
       "    </tr>\n",
       "  </thead>\n",
       "  <tbody>\n",
       "    <tr>\n",
       "      <th>0</th>\n",
       "      <td>1</td>\n",
       "      <td>Producto A</td>\n",
       "      <td>50</td>\n",
       "      <td>2023-01-05</td>\n",
       "      <td>20</td>\n",
       "      <td>0.400000</td>\n",
       "      <td>40.000000</td>\n",
       "    </tr>\n",
       "    <tr>\n",
       "      <th>1</th>\n",
       "      <td>1</td>\n",
       "      <td>Producto B</td>\n",
       "      <td>40</td>\n",
       "      <td>2023-01-06</td>\n",
       "      <td>15</td>\n",
       "      <td>0.375000</td>\n",
       "      <td>37.500000</td>\n",
       "    </tr>\n",
       "    <tr>\n",
       "      <th>2</th>\n",
       "      <td>2</td>\n",
       "      <td>Producto A</td>\n",
       "      <td>60</td>\n",
       "      <td>2023-01-07</td>\n",
       "      <td>30</td>\n",
       "      <td>0.500000</td>\n",
       "      <td>50.000000</td>\n",
       "    </tr>\n",
       "    <tr>\n",
       "      <th>3</th>\n",
       "      <td>2</td>\n",
       "      <td>Producto C</td>\n",
       "      <td>45</td>\n",
       "      <td>2023-01-08</td>\n",
       "      <td>25</td>\n",
       "      <td>0.555556</td>\n",
       "      <td>55.555556</td>\n",
       "    </tr>\n",
       "    <tr>\n",
       "      <th>4</th>\n",
       "      <td>3</td>\n",
       "      <td>Producto A</td>\n",
       "      <td>30</td>\n",
       "      <td>2023-01-09</td>\n",
       "      <td>10</td>\n",
       "      <td>0.333333</td>\n",
       "      <td>33.333333</td>\n",
       "    </tr>\n",
       "  </tbody>\n",
       "</table>\n",
       "</div>"
      ],
      "text/plain": [
       "   store_id  product_id  stock_on_hand date_updated  quantity_sold  turnover  \\\n",
       "0         1  Producto A             50   2023-01-05             20  0.400000   \n",
       "1         1  Producto B             40   2023-01-06             15  0.375000   \n",
       "2         2  Producto A             60   2023-01-07             30  0.500000   \n",
       "3         2  Producto C             45   2023-01-08             25  0.555556   \n",
       "4         3  Producto A             30   2023-01-09             10  0.333333   \n",
       "\n",
       "   pct_sold_vs_stock  \n",
       "0          40.000000  \n",
       "1          37.500000  \n",
       "2          50.000000  \n",
       "3          55.555556  \n",
       "4          33.333333  "
      ]
     },
     "metadata": {},
     "output_type": "display_data"
    },
    {
     "name": "stdout",
     "output_type": "stream",
     "text": [
      "Critical items (sold < 10% of stock):\n"
     ]
    },
    {
     "data": {
      "text/html": [
       "<div>\n",
       "<style scoped>\n",
       "    .dataframe tbody tr th:only-of-type {\n",
       "        vertical-align: middle;\n",
       "    }\n",
       "\n",
       "    .dataframe tbody tr th {\n",
       "        vertical-align: top;\n",
       "    }\n",
       "\n",
       "    .dataframe thead th {\n",
       "        text-align: right;\n",
       "    }\n",
       "</style>\n",
       "<table border=\"1\" class=\"dataframe\">\n",
       "  <thead>\n",
       "    <tr style=\"text-align: right;\">\n",
       "      <th></th>\n",
       "      <th>store_id</th>\n",
       "      <th>product_id</th>\n",
       "      <th>stock_on_hand</th>\n",
       "      <th>date_updated</th>\n",
       "      <th>quantity_sold</th>\n",
       "      <th>turnover</th>\n",
       "      <th>pct_sold_vs_stock</th>\n",
       "    </tr>\n",
       "  </thead>\n",
       "  <tbody>\n",
       "  </tbody>\n",
       "</table>\n",
       "</div>"
      ],
      "text/plain": [
       "Empty DataFrame\n",
       "Columns: [store_id, product_id, stock_on_hand, date_updated, quantity_sold, turnover, pct_sold_vs_stock]\n",
       "Index: []"
      ]
     },
     "metadata": {},
     "output_type": "display_data"
    }
   ],
   "source": [
    "sold = sales.groupby([\"store_id\", \"product_id\"])[\"quantity_sold\"].sum().reset_index()\n",
    "\n",
    "merged = inventories.merge(sold, on=[\"store_id\", \"product_id\"], how=\"left\").fillna({\"quantity_sold\": 0})\n",
    "\n",
    "merged[\"turnover\"] = merged[\"quantity_sold\"] / merged[\"stock_on_hand\"].replace({0: np.nan})\n",
    "\n",
    "merged[\"pct_sold_vs_stock\"] = (merged[\"quantity_sold\"] / merged[\"stock_on_hand\"].replace({0: np.nan})) * 100\n",
    "\n",
    "critical = merged[merged[\"pct_sold_vs_stock\"] < 10]\n",
    "\n",
    "print(\"Inventory analysis complete!\")\n",
    "print(\"First 5 rows of merged data:\")\n",
    "display(merged.head())\n",
    "\n",
    "print(\"Critical items (sold < 10% of stock):\")\n",
    "display(critical.head())\n"
   ]
  },
  {
   "cell_type": "code",
   "execution_count": 10,
   "id": "711cab91-1290-4f94-b495-81ab6e1da479",
   "metadata": {},
   "outputs": [
    {
     "data": {
      "image/png": "[encoded data removed]",
      "text/plain": [
       "<Figure size 640x480 with 1 Axes>"
      ]
     },
     "metadata": {},
     "output_type": "display_data"
    }
   ],
   "source": [
    "import matplotlib.pyplot as plt\n",
    "\n",
    "turnover_by_store = (\n",
    "    merged.groupby(\"store_id\", as_index=False)[\"turnover\"]\n",
    "          .mean()\n",
    "          .fillna(0)\n",
    "          .sort_values(\"turnover\", ascending=False)\n",
    ")\n",
    "\n",
    "plt.figure()\n",
    "plt.bar(turnover_by_store[\"store_id\"].astype(str),\n",
    "        turnover_by_store[\"turnover\"])\n",
    "plt.title(\"Average Inventory Turnover by Store\")\n",
    "plt.xlabel(\"Store\")\n",
    "plt.ylabel(\"Turnover (units_sold / stock_on_hand)\")\n",
    "plt.xticks(rotation=45)\n",
    "plt.tight_layout()\n",
    "plt.show()\n"
   ]
  },
  {
   "cell_type": "code",
   "execution_count": 11,
   "id": "01d58a8d-bd1c-4165-bd57-95db125793f2",
   "metadata": {},
   "outputs": [
    {
     "name": "stdout",
     "output_type": "stream",
     "text": [
      "Minimum % sold: 33.33333333333333\n",
      "Maximum % sold: 55.55555555555556\n",
      "Average % sold: 46.638888888888886\n"
     ]
    },
    {
     "data": {
      "text/html": [
       "<div>\n",
       "<style scoped>\n",
       "    .dataframe tbody tr th:only-of-type {\n",
       "        vertical-align: middle;\n",
       "    }\n",
       "\n",
       "    .dataframe tbody tr th {\n",
       "        vertical-align: top;\n",
       "    }\n",
       "\n",
       "    .dataframe thead th {\n",
       "        text-align: right;\n",
       "    }\n",
       "</style>\n",
       "<table border=\"1\" class=\"dataframe\">\n",
       "  <thead>\n",
       "    <tr style=\"text-align: right;\">\n",
       "      <th></th>\n",
       "      <th>store_id</th>\n",
       "      <th>product_id</th>\n",
       "      <th>stock_on_hand</th>\n",
       "      <th>date_updated</th>\n",
       "      <th>quantity_sold</th>\n",
       "      <th>turnover</th>\n",
       "      <th>pct_sold_vs_stock</th>\n",
       "    </tr>\n",
       "  </thead>\n",
       "  <tbody>\n",
       "    <tr>\n",
       "      <th>4</th>\n",
       "      <td>3</td>\n",
       "      <td>Producto A</td>\n",
       "      <td>30</td>\n",
       "      <td>2023-01-09</td>\n",
       "      <td>10</td>\n",
       "      <td>0.333333</td>\n",
       "      <td>33.333333</td>\n",
       "    </tr>\n",
       "    <tr>\n",
       "      <th>1</th>\n",
       "      <td>1</td>\n",
       "      <td>Producto B</td>\n",
       "      <td>40</td>\n",
       "      <td>2023-01-06</td>\n",
       "      <td>15</td>\n",
       "      <td>0.375000</td>\n",
       "      <td>37.500000</td>\n",
       "    </tr>\n",
       "    <tr>\n",
       "      <th>0</th>\n",
       "      <td>1</td>\n",
       "      <td>Producto A</td>\n",
       "      <td>50</td>\n",
       "      <td>2023-01-05</td>\n",
       "      <td>20</td>\n",
       "      <td>0.400000</td>\n",
       "      <td>40.000000</td>\n",
       "    </tr>\n",
       "    <tr>\n",
       "      <th>2</th>\n",
       "      <td>2</td>\n",
       "      <td>Producto A</td>\n",
       "      <td>60</td>\n",
       "      <td>2023-01-07</td>\n",
       "      <td>30</td>\n",
       "      <td>0.500000</td>\n",
       "      <td>50.000000</td>\n",
       "    </tr>\n",
       "    <tr>\n",
       "      <th>6</th>\n",
       "      <td>4</td>\n",
       "      <td>Producto C</td>\n",
       "      <td>70</td>\n",
       "      <td>2023-01-11</td>\n",
       "      <td>35</td>\n",
       "      <td>0.500000</td>\n",
       "      <td>50.000000</td>\n",
       "    </tr>\n",
       "    <tr>\n",
       "      <th>5</th>\n",
       "      <td>3</td>\n",
       "      <td>Producto B</td>\n",
       "      <td>80</td>\n",
       "      <td>2023-01-10</td>\n",
       "      <td>40</td>\n",
       "      <td>0.500000</td>\n",
       "      <td>50.000000</td>\n",
       "    </tr>\n",
       "    <tr>\n",
       "      <th>7</th>\n",
       "      <td>4</td>\n",
       "      <td>Producto A</td>\n",
       "      <td>50</td>\n",
       "      <td>2023-01-12</td>\n",
       "      <td>25</td>\n",
       "      <td>0.500000</td>\n",
       "      <td>50.000000</td>\n",
       "    </tr>\n",
       "    <tr>\n",
       "      <th>8</th>\n",
       "      <td>5</td>\n",
       "      <td>Producto B</td>\n",
       "      <td>40</td>\n",
       "      <td>2023-01-13</td>\n",
       "      <td>20</td>\n",
       "      <td>0.500000</td>\n",
       "      <td>50.000000</td>\n",
       "    </tr>\n",
       "    <tr>\n",
       "      <th>9</th>\n",
       "      <td>5</td>\n",
       "      <td>Producto C</td>\n",
       "      <td>60</td>\n",
       "      <td>2023-01-14</td>\n",
       "      <td>30</td>\n",
       "      <td>0.500000</td>\n",
       "      <td>50.000000</td>\n",
       "    </tr>\n",
       "    <tr>\n",
       "      <th>3</th>\n",
       "      <td>2</td>\n",
       "      <td>Producto C</td>\n",
       "      <td>45</td>\n",
       "      <td>2023-01-08</td>\n",
       "      <td>25</td>\n",
       "      <td>0.555556</td>\n",
       "      <td>55.555556</td>\n",
       "    </tr>\n",
       "  </tbody>\n",
       "</table>\n",
       "</div>"
      ],
      "text/plain": [
       "   store_id  product_id  stock_on_hand date_updated  quantity_sold  turnover  \\\n",
       "4         3  Producto A             30   2023-01-09             10  0.333333   \n",
       "1         1  Producto B             40   2023-01-06             15  0.375000   \n",
       "0         1  Producto A             50   2023-01-05             20  0.400000   \n",
       "2         2  Producto A             60   2023-01-07             30  0.500000   \n",
       "6         4  Producto C             70   2023-01-11             35  0.500000   \n",
       "5         3  Producto B             80   2023-01-10             40  0.500000   \n",
       "7         4  Producto A             50   2023-01-12             25  0.500000   \n",
       "8         5  Producto B             40   2023-01-13             20  0.500000   \n",
       "9         5  Producto C             60   2023-01-14             30  0.500000   \n",
       "3         2  Producto C             45   2023-01-08             25  0.555556   \n",
       "\n",
       "   pct_sold_vs_stock  \n",
       "4          33.333333  \n",
       "1          37.500000  \n",
       "0          40.000000  \n",
       "2          50.000000  \n",
       "6          50.000000  \n",
       "5          50.000000  \n",
       "7          50.000000  \n",
       "8          50.000000  \n",
       "9          50.000000  \n",
       "3          55.555556  "
      ]
     },
     "execution_count": 11,
     "metadata": {},
     "output_type": "execute_result"
    }
   ],
   "source": [
    "print(\"Minimum % sold:\", merged[\"pct_sold_vs_stock\"].min())\n",
    "print(\"Maximum % sold:\", merged[\"pct_sold_vs_stock\"].max())\n",
    "print(\"Average % sold:\", merged[\"pct_sold_vs_stock\"].mean())\n",
    "\n",
    "merged.sort_values(\"pct_sold_vs_stock\", ascending=True).head(10)\n"
   ]
  },
  {
   "cell_type": "code",
   "execution_count": 12,
   "id": "92b3b4d5-c8c7-4275-a14c-87a108850f1f",
   "metadata": {},
   "outputs": [
    {
     "data": {
      "text/html": [
       "<div>\n",
       "<style scoped>\n",
       "    .dataframe tbody tr th:only-of-type {\n",
       "        vertical-align: middle;\n",
       "    }\n",
       "\n",
       "    .dataframe tbody tr th {\n",
       "        vertical-align: top;\n",
       "    }\n",
       "\n",
       "    .dataframe thead th {\n",
       "        text-align: right;\n",
       "    }\n",
       "</style>\n",
       "<table border=\"1\" class=\"dataframe\">\n",
       "  <thead>\n",
       "    <tr style=\"text-align: right;\">\n",
       "      <th></th>\n",
       "      <th>store_id</th>\n",
       "      <th>n_critical_items</th>\n",
       "    </tr>\n",
       "  </thead>\n",
       "  <tbody>\n",
       "  </tbody>\n",
       "</table>\n",
       "</div>"
      ],
      "text/plain": [
       "Empty DataFrame\n",
       "Columns: [store_id, n_critical_items]\n",
       "Index: []"
      ]
     },
     "metadata": {},
     "output_type": "display_data"
    }
   ],
   "source": [
    "critical_by_store = (\n",
    "    critical.groupby(\"store_id\")\n",
    "            .size()\n",
    "            .reset_index(name=\"n_critical_items\")\n",
    "            .sort_values(\"n_critical_items\", ascending=False)\n",
    ")\n",
    "display(critical_by_store)"
   ]
  },
  {
   "cell_type": "code",
   "execution_count": 13,
   "id": "0a0c71ad-7431-4e7e-b956-4cb0474c3d46",
   "metadata": {},
   "outputs": [
    {
     "name": "stdout",
     "output_type": "stream",
     "text": [
      "Store performance (revenue + satisfaction):\n"
     ]
    },
    {
     "data": {
      "text/html": [
       "<div>\n",
       "<style scoped>\n",
       "    .dataframe tbody tr th:only-of-type {\n",
       "        vertical-align: middle;\n",
       "    }\n",
       "\n",
       "    .dataframe tbody tr th {\n",
       "        vertical-align: top;\n",
       "    }\n",
       "\n",
       "    .dataframe thead th {\n",
       "        text-align: right;\n",
       "    }\n",
       "</style>\n",
       "<table border=\"1\" class=\"dataframe\">\n",
       "  <thead>\n",
       "    <tr style=\"text-align: right;\">\n",
       "      <th></th>\n",
       "      <th>store_id</th>\n",
       "      <th>revenue</th>\n",
       "      <th>satisfaction_pct</th>\n",
       "    </tr>\n",
       "  </thead>\n",
       "  <tbody>\n",
       "    <tr>\n",
       "      <th>0</th>\n",
       "      <td>1</td>\n",
       "      <td>5000</td>\n",
       "      <td>85</td>\n",
       "    </tr>\n",
       "    <tr>\n",
       "      <th>1</th>\n",
       "      <td>2</td>\n",
       "      <td>10500</td>\n",
       "      <td>90</td>\n",
       "    </tr>\n",
       "    <tr>\n",
       "      <th>2</th>\n",
       "      <td>3</td>\n",
       "      <td>9000</td>\n",
       "      <td>70</td>\n",
       "    </tr>\n",
       "    <tr>\n",
       "      <th>3</th>\n",
       "      <td>4</td>\n",
       "      <td>13000</td>\n",
       "      <td>65</td>\n",
       "    </tr>\n",
       "    <tr>\n",
       "      <th>4</th>\n",
       "      <td>5</td>\n",
       "      <td>13000</td>\n",
       "      <td>55</td>\n",
       "    </tr>\n",
       "  </tbody>\n",
       "</table>\n",
       "</div>"
      ],
      "text/plain": [
       "   store_id  revenue  satisfaction_pct\n",
       "0         1     5000                85\n",
       "1         2    10500                90\n",
       "2         3     9000                70\n",
       "3         4    13000                65\n",
       "4         5    13000                55"
      ]
     },
     "metadata": {},
     "output_type": "display_data"
    }
   ],
   "source": [
    "satisfaction[\"satisfaction_pct\"] = pd.to_numeric(satisfaction[\"satisfaction_pct\"], errors=\"coerce\")\n",
    "\n",
    "store_perf = revenue_by_store.merge(\n",
    "    satisfaction[[\"store_id\", \"satisfaction_pct\"]],\n",
    "    on=\"store_id\",\n",
    "    how=\"left\"\n",
    ")\n",
    "\n",
    "print(\"Store performance (revenue + satisfaction):\")\n",
    "display(store_perf)\n"
   ]
  },
  {
   "cell_type": "code",
   "execution_count": 14,
   "id": "daf3e824-258e-4f55-8322-2b0f2636f0eb",
   "metadata": {},
   "outputs": [
    {
     "name": "stdout",
     "output_type": "stream",
     "text": [
      "Stores with low satisfaction (<60%):\n"
     ]
    },
    {
     "data": {
      "text/html": [
       "<div>\n",
       "<style scoped>\n",
       "    .dataframe tbody tr th:only-of-type {\n",
       "        vertical-align: middle;\n",
       "    }\n",
       "\n",
       "    .dataframe tbody tr th {\n",
       "        vertical-align: top;\n",
       "    }\n",
       "\n",
       "    .dataframe thead th {\n",
       "        text-align: right;\n",
       "    }\n",
       "</style>\n",
       "<table border=\"1\" class=\"dataframe\">\n",
       "  <thead>\n",
       "    <tr style=\"text-align: right;\">\n",
       "      <th></th>\n",
       "      <th>store_id</th>\n",
       "      <th>revenue</th>\n",
       "      <th>satisfaction_pct</th>\n",
       "    </tr>\n",
       "  </thead>\n",
       "  <tbody>\n",
       "    <tr>\n",
       "      <th>4</th>\n",
       "      <td>5</td>\n",
       "      <td>13000</td>\n",
       "      <td>55</td>\n",
       "    </tr>\n",
       "  </tbody>\n",
       "</table>\n",
       "</div>"
      ],
      "text/plain": [
       "   store_id  revenue  satisfaction_pct\n",
       "4         5    13000                55"
      ]
     },
     "metadata": {},
     "output_type": "display_data"
    }
   ],
   "source": [
    "low_satisfaction = store_perf[store_perf[\"satisfaction_pct\"] < 60].copy()\n",
    "\n",
    "print(\"Stores with low satisfaction (<60%):\")\n",
    "display(low_satisfaction)\n"
   ]
  },
  {
   "cell_type": "code",
   "execution_count": 15,
   "id": "48b28d7c-15ef-4324-a5ee-72fbd699e81e",
   "metadata": {},
   "outputs": [
    {
     "data": {
      "image/png": "[encoded data removed]",
      "text/plain": [
       "<Figure size 640x480 with 1 Axes>"
      ]
     },
     "metadata": {},
     "output_type": "display_data"
    }
   ],
   "source": [
    "import matplotlib.pyplot as plt\n",
    "\n",
    "sp_sorted = store_perf.sort_values(\"satisfaction_pct\", ascending=True)\n",
    "\n",
    "plt.figure()\n",
    "plt.bar(sp_sorted[\"store_id\"].astype(str), sp_sorted[\"satisfaction_pct\"])\n",
    "plt.title(\"Customer Satisfaction by Store\")\n",
    "plt.xlabel(\"Store\")\n",
    "plt.ylabel(\"Satisfaction (%)\")\n",
    "plt.xticks(rotation=45)\n",
    "plt.tight_layout()\n",
    "plt.show()\n"
   ]
  },
  {
   "cell_type": "code",
   "execution_count": 16,
   "id": "558b9676-d573-4c6d-9423-82ee57c2a2b6",
   "metadata": {},
   "outputs": [
    {
     "name": "stdout",
     "output_type": "stream",
     "text": [
      "Dual-risk stores (satisfaction < 60% AND revenue <= bottom quartile [9000.00]):\n"
     ]
    },
    {
     "data": {
      "text/html": [
       "<div>\n",
       "<style scoped>\n",
       "    .dataframe tbody tr th:only-of-type {\n",
       "        vertical-align: middle;\n",
       "    }\n",
       "\n",
       "    .dataframe tbody tr th {\n",
       "        vertical-align: top;\n",
       "    }\n",
       "\n",
       "    .dataframe thead th {\n",
       "        text-align: right;\n",
       "    }\n",
       "</style>\n",
       "<table border=\"1\" class=\"dataframe\">\n",
       "  <thead>\n",
       "    <tr style=\"text-align: right;\">\n",
       "      <th></th>\n",
       "      <th>store_id</th>\n",
       "      <th>revenue</th>\n",
       "      <th>satisfaction_pct</th>\n",
       "    </tr>\n",
       "  </thead>\n",
       "  <tbody>\n",
       "  </tbody>\n",
       "</table>\n",
       "</div>"
      ],
      "text/plain": [
       "Empty DataFrame\n",
       "Columns: [store_id, revenue, satisfaction_pct]\n",
       "Index: []"
      ]
     },
     "metadata": {},
     "output_type": "display_data"
    }
   ],
   "source": [
    "rev_q1 = store_perf[\"revenue\"].quantile(0.25)\n",
    "\n",
    "dual_risk = store_perf[\n",
    "    (store_perf[\"satisfaction_pct\"] < 60) &\n",
    "    (store_perf[\"revenue\"] <= rev_q1)\n",
    "].copy()\n",
    "\n",
    "print(f\"Dual-risk stores (satisfaction < 60% AND revenue <= bottom quartile [{rev_q1:.2f}]):\")\n",
    "display(dual_risk)\n"
   ]
  },
  {
   "cell_type": "code",
   "execution_count": 17,
   "id": "7e0e54a3-bed7-45d4-be1e-15785c3f79e0",
   "metadata": {},
   "outputs": [
    {
     "name": "stdout",
     "output_type": "stream",
     "text": [
      "Median revenue (by store): 10500.0\n",
      "Standard deviation of revenue (by store): 2973.21\n"
     ]
    }
   ],
   "source": [
    "sales_array = store_perf[\"revenue\"].to_numpy()\n",
    "\n",
    "median_sales = np.median(sales_array)\n",
    "std_sales = np.std(sales_array, ddof=0) \n",
    "\n",
    "print(\"Median revenue (by store):\", round(median_sales, 2))\n",
    "print(\"Standard deviation of revenue (by store):\", round(std_sales, 2))\n"
   ]
  },
  {
   "cell_type": "code",
   "execution_count": 18,
   "id": "3de5a767-4c06-481c-877e-b9052f6cc230",
   "metadata": {},
   "outputs": [
    {
     "name": "stdout",
     "output_type": "stream",
     "text": [
      "Simulated 30-day sales summary:\n"
     ]
    },
    {
     "data": {
      "text/html": [
       "<div>\n",
       "<style scoped>\n",
       "    .dataframe tbody tr th:only-of-type {\n",
       "        vertical-align: middle;\n",
       "    }\n",
       "\n",
       "    .dataframe tbody tr th {\n",
       "        vertical-align: top;\n",
       "    }\n",
       "\n",
       "    .dataframe thead th {\n",
       "        text-align: right;\n",
       "    }\n",
       "</style>\n",
       "<table border=\"1\" class=\"dataframe\">\n",
       "  <thead>\n",
       "    <tr style=\"text-align: right;\">\n",
       "      <th></th>\n",
       "      <th>store_id</th>\n",
       "      <th>mean_proj</th>\n",
       "      <th>std_proj</th>\n",
       "      <th>min_proj</th>\n",
       "      <th>max_proj</th>\n",
       "    </tr>\n",
       "  </thead>\n",
       "  <tbody>\n",
       "    <tr>\n",
       "      <th>3</th>\n",
       "      <td>4</td>\n",
       "      <td>432.016978</td>\n",
       "      <td>58.080523</td>\n",
       "      <td>308.613204</td>\n",
       "      <td>593.444071</td>\n",
       "    </tr>\n",
       "    <tr>\n",
       "      <th>4</th>\n",
       "      <td>5</td>\n",
       "      <td>427.161056</td>\n",
       "      <td>65.451514</td>\n",
       "      <td>328.846923</td>\n",
       "      <td>575.712949</td>\n",
       "    </tr>\n",
       "    <tr>\n",
       "      <th>1</th>\n",
       "      <td>2</td>\n",
       "      <td>343.638970</td>\n",
       "      <td>48.061246</td>\n",
       "      <td>247.117318</td>\n",
       "      <td>447.244605</td>\n",
       "    </tr>\n",
       "    <tr>\n",
       "      <th>2</th>\n",
       "      <td>3</td>\n",
       "      <td>300.579815</td>\n",
       "      <td>43.888944</td>\n",
       "      <td>182.111470</td>\n",
       "      <td>370.408965</td>\n",
       "    </tr>\n",
       "    <tr>\n",
       "      <th>0</th>\n",
       "      <td>1</td>\n",
       "      <td>161.962994</td>\n",
       "      <td>22.121980</td>\n",
       "      <td>118.834661</td>\n",
       "      <td>206.146987</td>\n",
       "    </tr>\n",
       "  </tbody>\n",
       "</table>\n",
       "</div>"
      ],
      "text/plain": [
       "   store_id   mean_proj   std_proj    min_proj    max_proj\n",
       "3         4  432.016978  58.080523  308.613204  593.444071\n",
       "4         5  427.161056  65.451514  328.846923  575.712949\n",
       "1         2  343.638970  48.061246  247.117318  447.244605\n",
       "2         3  300.579815  43.888944  182.111470  370.408965\n",
       "0         1  161.962994  22.121980  118.834661  206.146987"
      ]
     },
     "metadata": {},
     "output_type": "display_data"
    }
   ],
   "source": [
    "np.random.seed(42)\n",
    "\n",
    "n_days = 30\n",
    "sim_results = []\n",
    "\n",
    "for _, row in store_perf.iterrows():\n",
    "    store = row[\"store_id\"]\n",
    "    mean_daily = row[\"revenue\"] / n_days\n",
    "    std_daily = mean_daily * 0.15  \n",
    "    \n",
    "    simulated = np.random.normal(loc=mean_daily, scale=std_daily, size=n_days)\n",
    "    simulated = np.clip(simulated, a_min=0, a_max=None)  \n",
    "    \n",
    "    sim_results.append({\n",
    "        \"store_id\": store,\n",
    "        \"mean_proj\": simulated.mean(),\n",
    "        \"std_proj\": simulated.std(ddof=0),\n",
    "        \"min_proj\": simulated.min(),\n",
    "        \"max_proj\": simulated.max()\n",
    "    })\n",
    "\n",
    "sim_df = pd.DataFrame(sim_results).sort_values(\"mean_proj\", ascending=False)\n",
    "\n",
    "print(\"Simulated 30-day sales summary:\")\n",
    "display(sim_df)\n"
   ]
  },
  {
   "cell_type": "code",
   "execution_count": 19,
   "id": "717cd3f8-6dc0-4e85-90bf-524b20416610",
   "metadata": {},
   "outputs": [
    {
     "data": {
      "image/png": "[encoded data removed]",
      "text/plain": [
       "<Figure size 640x480 with 1 Axes>"
      ]
     },
     "metadata": {},
     "output_type": "display_data"
    }
   ],
   "source": [
    "plt.figure()\n",
    "plt.hist(sim_df[\"mean_proj\"], bins=10)\n",
    "plt.title(\"Distribution of Projected Mean Daily Sales (per store)\")\n",
    "plt.xlabel(\"Projected Daily Sales\")\n",
    "plt.ylabel(\"Number of Stores\")\n",
    "plt.tight_layout()\n",
    "plt.show()\n"
   ]
  },
  {
   "cell_type": "code",
   "execution_count": 20,
   "id": "8c3cb33e-0114-44e8-822b-829ad8a6d3bf",
   "metadata": {},
   "outputs": [
    {
     "ename": "SyntaxError",
     "evalue": "invalid syntax (3188658146.py, line 3)",
     "output_type": "error",
     "traceback": [
      "\u001b[1;36m  Cell \u001b[1;32mIn[20], line 3\u001b[1;36m\u001b[0m\n\u001b[1;33m    - **Sales:**\u001b[0m\n\u001b[1;37m      ^\u001b[0m\n\u001b[1;31mSyntaxError\u001b[0m\u001b[1;31m:\u001b[0m invalid syntax\n"
     ]
    }
   ],
   "source": [
    "## Reflection and Recommendations\n",
    "\n",
    "- **Sales:**  \n",
    "  - Stores 4 and 5 made the most revenue (around 13,000 each).  \n",
    "  - Store 1 made the least (about 5,000).  \n",
    "  - Stores 2 and 3 are in the middle.  \n",
    "\n",
    "- **Satisfaction:**  \n",
    "  - Store 2 is the best overall: strong sales (10,500) and the highest satisfaction (90%).  \n",
    "  - Stores 4 and 5 sell the most but have the lowest satisfaction (65% and 55%).  \n",
    "  - This means people are buying, but they are not fully happy with their experience.  \n",
    "\n",
    "- **Inventory:**  \n",
    "  - Store 2 has the best inventory turnover (0.53), showing it sells stock quickly.  \n",
    "  - Store 1 is the slowest (0.39).  \n",
    "  - No items were below 10% sold, so overall stock seems okay.  \n",
    "\n",
    "- **Simulation:**  \n",
    "  - Future sales simulations confirm what we saw before.  \n",
    "  - Stores 4 and 5 will likely stay on top.  \n",
    "  - Store 1 will continue to struggle.  \n",
    "\n",
    "### My Recommendations\n",
    "1. **Improve customer service at Stores 4 and 5.** Sales are high, but low satisfaction could hurt in the future.  \n",
    "2. **Use Store 2 as an example.** It balances sales, satisfaction, and inventory well.  \n",
    "3. **Support Store 1.** Promotions or better product selection could help it catch up in sales and turnover.  \n"
   ]
  },
  {
   "cell_type": "markdown",
   "id": "ac172dca-f55f-498a-8986-6b7b42cb0d19",
   "metadata": {},
   "source": []
  }
 ],
 "metadata": {
  "kernelspec": {
   "display_name": "Python [conda env:base] *",
   "language": "python",
   "name": "conda-base-py"
  },
  "language_info": {
   "codemirror_mode": {
    "name": "ipython",
    "version": 3
   },
   "file_extension": ".py",
   "mimetype": "text/x-python",
   "name": "python",
   "nbconvert_exporter": "python",
   "pygments_lexer": "ipython3",
   "version": "3.13.5"
  }
 },
 "nbformat": 4,
 "nbformat_minor": 5
}
